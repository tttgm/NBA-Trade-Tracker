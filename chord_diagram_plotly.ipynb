{
 "cells": [
  {
   "cell_type": "markdown",
   "metadata": {},
   "source": [
    "## Using plotly and the tutorial for chord diagrams\n",
    "\n",
    "https://plot.ly/python/filled-chord-diagram/"
   ]
  },
  {
   "cell_type": "code",
   "execution_count": 1,
   "metadata": {},
   "outputs": [],
   "source": [
    "# import libraries\n",
    "import pandas as pd\n",
    "import numpy as np\n",
    "import codecs, json"
   ]
  },
  {
   "cell_type": "code",
   "execution_count": 2,
   "metadata": {},
   "outputs": [],
   "source": [
    "# load pickled dataframe of trades (count) indexed by year\n",
    "yearly_sq_matrix = pd.read_pickle('trades_by_year')"
   ]
  },
  {
   "cell_type": "code",
   "execution_count": 4,
   "metadata": {},
   "outputs": [
    {
     "data": {
      "text/html": [
       "<div>\n",
       "<style scoped>\n",
       "    .dataframe tbody tr th:only-of-type {\n",
       "        vertical-align: middle;\n",
       "    }\n",
       "\n",
       "    .dataframe tbody tr th {\n",
       "        vertical-align: top;\n",
       "    }\n",
       "\n",
       "    .dataframe thead th {\n",
       "        text-align: right;\n",
       "    }\n",
       "</style>\n",
       "<table border=\"1\" class=\"dataframe\">\n",
       "  <thead>\n",
       "    <tr style=\"text-align: right;\">\n",
       "      <th></th>\n",
       "      <th>Team_2</th>\n",
       "      <th>ATL</th>\n",
       "      <th>BKN</th>\n",
       "      <th>BOS</th>\n",
       "      <th>CHA</th>\n",
       "      <th>CHI</th>\n",
       "      <th>CLE</th>\n",
       "      <th>DAL</th>\n",
       "      <th>DEN</th>\n",
       "      <th>DET</th>\n",
       "      <th>GSW</th>\n",
       "      <th>...</th>\n",
       "      <th>OKC</th>\n",
       "      <th>ORL</th>\n",
       "      <th>PHI</th>\n",
       "      <th>PHO</th>\n",
       "      <th>POR</th>\n",
       "      <th>SAC</th>\n",
       "      <th>SAS</th>\n",
       "      <th>TOR</th>\n",
       "      <th>UTA</th>\n",
       "      <th>WAS</th>\n",
       "    </tr>\n",
       "    <tr>\n",
       "      <th>Year</th>\n",
       "      <th>Team_1</th>\n",
       "      <th></th>\n",
       "      <th></th>\n",
       "      <th></th>\n",
       "      <th></th>\n",
       "      <th></th>\n",
       "      <th></th>\n",
       "      <th></th>\n",
       "      <th></th>\n",
       "      <th></th>\n",
       "      <th></th>\n",
       "      <th></th>\n",
       "      <th></th>\n",
       "      <th></th>\n",
       "      <th></th>\n",
       "      <th></th>\n",
       "      <th></th>\n",
       "      <th></th>\n",
       "      <th></th>\n",
       "      <th></th>\n",
       "      <th></th>\n",
       "      <th></th>\n",
       "    </tr>\n",
       "  </thead>\n",
       "  <tbody>\n",
       "    <tr>\n",
       "      <th rowspan=\"5\" valign=\"top\">1985</th>\n",
       "      <th>ATL</th>\n",
       "      <td>0.0</td>\n",
       "      <td>0.0</td>\n",
       "      <td>0.0</td>\n",
       "      <td>0.0</td>\n",
       "      <td>0.0</td>\n",
       "      <td>0.0</td>\n",
       "      <td>0.0</td>\n",
       "      <td>0.0</td>\n",
       "      <td>0.0</td>\n",
       "      <td>0.0</td>\n",
       "      <td>...</td>\n",
       "      <td>0.0</td>\n",
       "      <td>0.0</td>\n",
       "      <td>0.0</td>\n",
       "      <td>0.0</td>\n",
       "      <td>0.0</td>\n",
       "      <td>0.0</td>\n",
       "      <td>0.0</td>\n",
       "      <td>0.0</td>\n",
       "      <td>0.0</td>\n",
       "      <td>0.0</td>\n",
       "    </tr>\n",
       "    <tr>\n",
       "      <th>BKN</th>\n",
       "      <td>0.0</td>\n",
       "      <td>0.0</td>\n",
       "      <td>0.0</td>\n",
       "      <td>0.0</td>\n",
       "      <td>0.0</td>\n",
       "      <td>0.0</td>\n",
       "      <td>0.0</td>\n",
       "      <td>0.0</td>\n",
       "      <td>0.0</td>\n",
       "      <td>0.0</td>\n",
       "      <td>...</td>\n",
       "      <td>0.0</td>\n",
       "      <td>0.0</td>\n",
       "      <td>1.0</td>\n",
       "      <td>0.0</td>\n",
       "      <td>0.0</td>\n",
       "      <td>0.0</td>\n",
       "      <td>0.0</td>\n",
       "      <td>0.0</td>\n",
       "      <td>0.0</td>\n",
       "      <td>0.0</td>\n",
       "    </tr>\n",
       "    <tr>\n",
       "      <th>BOS</th>\n",
       "      <td>0.0</td>\n",
       "      <td>0.0</td>\n",
       "      <td>0.0</td>\n",
       "      <td>0.0</td>\n",
       "      <td>0.0</td>\n",
       "      <td>0.0</td>\n",
       "      <td>0.0</td>\n",
       "      <td>0.0</td>\n",
       "      <td>0.0</td>\n",
       "      <td>0.0</td>\n",
       "      <td>...</td>\n",
       "      <td>0.0</td>\n",
       "      <td>0.0</td>\n",
       "      <td>0.0</td>\n",
       "      <td>0.0</td>\n",
       "      <td>0.0</td>\n",
       "      <td>0.0</td>\n",
       "      <td>0.0</td>\n",
       "      <td>0.0</td>\n",
       "      <td>0.0</td>\n",
       "      <td>0.0</td>\n",
       "    </tr>\n",
       "    <tr>\n",
       "      <th>CHA</th>\n",
       "      <td>0.0</td>\n",
       "      <td>0.0</td>\n",
       "      <td>0.0</td>\n",
       "      <td>0.0</td>\n",
       "      <td>0.0</td>\n",
       "      <td>0.0</td>\n",
       "      <td>0.0</td>\n",
       "      <td>0.0</td>\n",
       "      <td>0.0</td>\n",
       "      <td>0.0</td>\n",
       "      <td>...</td>\n",
       "      <td>0.0</td>\n",
       "      <td>0.0</td>\n",
       "      <td>0.0</td>\n",
       "      <td>0.0</td>\n",
       "      <td>0.0</td>\n",
       "      <td>0.0</td>\n",
       "      <td>0.0</td>\n",
       "      <td>0.0</td>\n",
       "      <td>0.0</td>\n",
       "      <td>0.0</td>\n",
       "    </tr>\n",
       "    <tr>\n",
       "      <th>CHI</th>\n",
       "      <td>0.0</td>\n",
       "      <td>0.0</td>\n",
       "      <td>0.0</td>\n",
       "      <td>0.0</td>\n",
       "      <td>0.0</td>\n",
       "      <td>0.0</td>\n",
       "      <td>0.0</td>\n",
       "      <td>0.0</td>\n",
       "      <td>0.0</td>\n",
       "      <td>0.0</td>\n",
       "      <td>...</td>\n",
       "      <td>0.0</td>\n",
       "      <td>0.0</td>\n",
       "      <td>0.0</td>\n",
       "      <td>0.0</td>\n",
       "      <td>0.0</td>\n",
       "      <td>0.0</td>\n",
       "      <td>0.0</td>\n",
       "      <td>0.0</td>\n",
       "      <td>0.0</td>\n",
       "      <td>0.0</td>\n",
       "    </tr>\n",
       "  </tbody>\n",
       "</table>\n",
       "<p>5 rows × 30 columns</p>\n",
       "</div>"
      ],
      "text/plain": [
       "Team_2       ATL  BKN  BOS  CHA  CHI  CLE  DAL  DEN  DET  GSW ...   OKC  ORL  \\\n",
       "Year Team_1                                                   ...              \n",
       "1985 ATL     0.0  0.0  0.0  0.0  0.0  0.0  0.0  0.0  0.0  0.0 ...   0.0  0.0   \n",
       "     BKN     0.0  0.0  0.0  0.0  0.0  0.0  0.0  0.0  0.0  0.0 ...   0.0  0.0   \n",
       "     BOS     0.0  0.0  0.0  0.0  0.0  0.0  0.0  0.0  0.0  0.0 ...   0.0  0.0   \n",
       "     CHA     0.0  0.0  0.0  0.0  0.0  0.0  0.0  0.0  0.0  0.0 ...   0.0  0.0   \n",
       "     CHI     0.0  0.0  0.0  0.0  0.0  0.0  0.0  0.0  0.0  0.0 ...   0.0  0.0   \n",
       "\n",
       "Team_2       PHI  PHO  POR  SAC  SAS  TOR  UTA  WAS  \n",
       "Year Team_1                                          \n",
       "1985 ATL     0.0  0.0  0.0  0.0  0.0  0.0  0.0  0.0  \n",
       "     BKN     1.0  0.0  0.0  0.0  0.0  0.0  0.0  0.0  \n",
       "     BOS     0.0  0.0  0.0  0.0  0.0  0.0  0.0  0.0  \n",
       "     CHA     0.0  0.0  0.0  0.0  0.0  0.0  0.0  0.0  \n",
       "     CHI     0.0  0.0  0.0  0.0  0.0  0.0  0.0  0.0  \n",
       "\n",
       "[5 rows x 30 columns]"
      ]
     },
     "execution_count": 4,
     "metadata": {},
     "output_type": "execute_result"
    }
   ],
   "source": [
    "yearly_sq_matrix.head()"
   ]
  },
  {
   "cell_type": "code",
   "execution_count": null,
   "metadata": {},
   "outputs": [],
   "source": [
    "# This function just checks that a matrix is a SQUARE matrix\n",
    "def check_data(data_matrix):\n",
    "    L, M=data_matrix.shape\n",
    "    if L!=M:\n",
    "        raise ValueError('Data array must have (n,n) shape')\n",
    "    return L"
   ]
  },
  {
   "cell_type": "code",
   "execution_count": null,
   "metadata": {},
   "outputs": [],
   "source": [
    "import plotly.plotly as py\n",
    "#import plotly.figure_factory as ff\n",
    "from plotly.graph_objs import *"
   ]
  },
  {
   "cell_type": "code",
   "execution_count": null,
   "metadata": {},
   "outputs": [],
   "source": [
    "# Check that the nba matrix is square and save the matrix 'size' as the var L\n",
    "L = check_data(matrix)\n",
    "L"
   ]
  },
  {
   "cell_type": "markdown",
   "metadata": {},
   "source": [
    "### Ideograms\n",
    "\n",
    "Need to calculate the IDEOGRAM lengths (i.e. how the OUTER circle will be divided up amongst the teams)."
   ]
  },
  {
   "cell_type": "code",
   "execution_count": null,
   "metadata": {},
   "outputs": [],
   "source": [
    "PI=np.pi\n",
    "\n",
    "def moduloAB(x, a, b): #maps a real number onto the unit circle identified with \n",
    "                       #the interval [a,b), b-a=2*PI\n",
    "        if a>=b:\n",
    "            raise ValueError('Incorrect interval ends')\n",
    "        y=(x-a)%(b-a)\n",
    "        return y+b if y<0 else y+a\n",
    "    \n",
    "def test_2PI(x):\n",
    "    return 0<= x <2*PI"
   ]
  },
  {
   "cell_type": "markdown",
   "metadata": {},
   "source": [
    "Calculate the row sums (i.e. all transactions for 1 team)."
   ]
  },
  {
   "cell_type": "code",
   "execution_count": null,
   "metadata": {},
   "outputs": [],
   "source": [
    "row_sum=[np.sum(matrix[k,:]) for k in range(L)]\n",
    "\n",
    "#set the gap between two consecutive ideograms\n",
    "gap=2*PI*0.005\n",
    "ideogram_length=2*PI*np.asarray(row_sum)/sum(row_sum)-gap*np.ones(L)"
   ]
  },
  {
   "cell_type": "markdown",
   "metadata": {},
   "source": [
    "Now get a list of the angular coordinates for the end-points of each ideogram."
   ]
  },
  {
   "cell_type": "code",
   "execution_count": null,
   "metadata": {},
   "outputs": [],
   "source": [
    "# This returns a list of lists, with each inner list having two values corresponding to the start and end\n",
    "# points (in radians) of each ideogram around the circle.\n",
    "def get_ideogram_ends(ideogram_len, gap):\n",
    "    ideo_ends=[]\n",
    "    left=0\n",
    "    for k in range(len(ideogram_len)):\n",
    "        right=left+ideogram_len[k]\n",
    "        ideo_ends.append([left, right])   \n",
    "        left=right+gap\n",
    "    return ideo_ends \n",
    "\n",
    "ideo_ends = get_ideogram_ends(ideogram_length, gap)\n",
    "ideo_ends"
   ]
  },
  {
   "cell_type": "markdown",
   "metadata": {},
   "source": [
    "The 'make_ideogram_arc()' function below returns equally-spaced points on an ideogram arc, expressed as complex numbers.\n",
    "\n",
    "The parts of these complex numbers will be used to define the ideogram as a plotly shape bounded by an SVG path."
   ]
  },
  {
   "cell_type": "code",
   "execution_count": null,
   "metadata": {},
   "outputs": [],
   "source": [
    "def make_ideogram_arc(R, phi, a=50):\n",
    "    # R is the circle radius\n",
    "    # phi is the list of ends angle coordinates of an arc\n",
    "    # a is a parameter that controls the number of points to be evaluated on an arc\n",
    "    if not test_2PI(phi[0]) or not test_2PI(phi[1]):\n",
    "        phi=[moduloAB(t, 0, 2*PI) for t in phi]\n",
    "    length=(phi[1]-phi[0])% 2*PI \n",
    "    nr=5 if length<=PI/4 else int(a*length/PI)\n",
    "\n",
    "    if phi[0] < phi[1]:   \n",
    "        theta=np.linspace(phi[0], phi[1], nr)\n",
    "    else:\n",
    "        phi=[moduloAB(t, -PI, PI) for t in phi]\n",
    "        theta=np.linspace(phi[0], phi[1], nr)\n",
    "    return R*np.exp(1j*theta)   "
   ]
  },
  {
   "cell_type": "markdown",
   "metadata": {},
   "source": [
    "Set the ideogram colours and labels."
   ]
  },
  {
   "cell_type": "code",
   "execution_count": null,
   "metadata": {},
   "outputs": [],
   "source": [
    "# Label all 30 teams and set colours\n",
    "labels=['ATL', 'BRK', 'BOS', 'CHA', 'CHI',\n",
    "       'CLE', 'DAL', 'DEN', 'DET', 'GSW',\n",
    "       'HOU', 'IND', 'LAC', 'LAL', 'MEM',\n",
    "       'MIA', 'MIL', 'MIN', 'NOP', 'NYK',\n",
    "       'OKC', 'ORL', 'PHI', 'PHO', 'POR',\n",
    "       'SAC', 'SAS', 'TOR', 'UTA', 'WAS']\n",
    "ideo_colors=['rgba(209, 14, 14, 0.75)', #ATL\n",
    "             'rgba(68, 68, 68, 0.75)', #BRK\n",
    "             'rgba(0, 76, 8, 0.75)', #BOS\n",
    "             'rgba(1, 190, 193, 0.75)', #CHA\n",
    "             'rgba(209, 64, 41, 0.75)', #CHI\n",
    "             'rgba(109, 29, 17, 0.75)', #CLE\n",
    "             'rgba(20, 45, 188, 0.75)', #DAL\n",
    "             'rgba(134, 196, 249, 0.75)', #DEN\n",
    "             'rgba(44, 55, 119, 0.75)', #DET\n",
    "             'rgba(214, 204, 17, 0.75)', #GSW\n",
    "             'rgba(216, 31, 15, 0.75)', #HOU\n",
    "             'rgba(224, 173, 56, 0.75)', #IND\n",
    "             'rgba(252, 250, 249, 0.75)', #LAC\n",
    "             'rgba(105, 25, 135, 0.75)', #LAL\n",
    "             'rgba(14, 40, 17, 0.75)', #MEM\n",
    "             'rgba(135, 30, 28, 0.75)', #MIA\n",
    "             'rgba(40, 89, 38, 0.75)', #MIL\n",
    "             'rgba(40, 58, 43, 0.75)', #MIN\n",
    "             'rgba(0, 6, 91, 0.75)', #NOP\n",
    "             'rgba(209, 125, 29, 0.75)', #NYK\n",
    "             'rgba(8, 2, 219, 0.75)', #OKC\n",
    "             'rgba(7, 131, 239, 0.75)', #ORL\n",
    "             'rgba(249, 249, 249, 0.75)', #PHI\n",
    "             'rgba(80, 3, 158, 0.75)', #PHO\n",
    "             'rgba(158, 3, 8, 0.75)', #POR\n",
    "             'rgba(54, 3, 158, 0.75)', #SAC\n",
    "             'rgba(144, 144, 144, 0.75)', #SAS\n",
    "             'rgba(178, 42, 33, 0.75)', #TOR\n",
    "             'rgba(213, 214, 215, 0.75)', #UTA\n",
    "             'rgba(196, 78, 80, 0.75)' #WAS\n",
    "            ] "
   ]
  },
  {
   "cell_type": "markdown",
   "metadata": {},
   "source": [
    "### Ribbons of the chord diagram\n",
    "\n",
    "The ideograms represent how MANY trades each respective team made, whereas the ribbons that connect ideograms represent the FLOW of players between teams (i.e. the relationships).\n",
    "\n",
    "To do this we need to 'map' the data in the matrix onto the ideogram locations defined above."
   ]
  },
  {
   "cell_type": "code",
   "execution_count": null,
   "metadata": {},
   "outputs": [],
   "source": [
    "# This func maps all the data points onto one of the defined ideogram intervalues\n",
    "def map_data(data_matrix, row_value, ideogram_length):\n",
    "    mapped=np.zeros(data_matrix.shape)\n",
    "    for j in range(L): # 'L' is the size of the matrix in one dimension\n",
    "        mapped[:, j]=ideogram_length*data_matrix[:,j]/row_value\n",
    "    return mapped \n",
    "\n",
    "mapped_data = map_data(matrix, row_sum, ideogram_length)\n",
    "mapped_data[3]"
   ]
  },
  {
   "cell_type": "markdown",
   "metadata": {},
   "source": [
    "*How this works:* To each pair of values `(mapped_data[k][j], mapped_data[j][k])`, where `k<=j`, a ribbon is associated (i.e. a curvelinear filled rectangle), having as opposite ends two sub-arcs of the k<sup>th</sup> and j<sup>th</sup> ideogram, and two arcs of quadratic Bezier curves."
   ]
  },
  {
   "cell_type": "markdown",
   "metadata": {},
   "source": [
    "Sorting the values along the rows of this `mapped_data` array is recommended for a nicer looking chord chart."
   ]
  },
  {
   "cell_type": "code",
   "execution_count": null,
   "metadata": {},
   "outputs": [],
   "source": [
    "# Get the SORTED array\n",
    "idx_sort=np.argsort(mapped_data, axis=1)\n",
    "idx_sort[5]"
   ]
  },
  {
   "cell_type": "markdown",
   "metadata": {},
   "source": [
    "Need to create another arc to connect the end points of each ribbon around the line of the circle -- i.e. create the 'end' of each ribbon."
   ]
  },
  {
   "cell_type": "code",
   "execution_count": null,
   "metadata": {},
   "outputs": [],
   "source": [
    "def make_ribbon_ends(mapped_data, ideo_ends,  idx_sort):\n",
    "    L=mapped_data.shape[0]\n",
    "    ribbon_boundary=np.zeros((L,L+1))\n",
    "    for k in range(L):\n",
    "        start=ideo_ends[k][0]\n",
    "        ribbon_boundary[k][0]=start\n",
    "        for j in range(1,L+1):\n",
    "            J=idx_sort[k][j-1]\n",
    "            ribbon_boundary[k][j]=start+mapped_data[k][J]\n",
    "            start=ribbon_boundary[k][j]\n",
    "    return [[(ribbon_boundary[k][j],ribbon_boundary[k][j+1] ) for j in range(L)] for k in range(L)]   \n",
    "\n",
    "ribbon_ends=make_ribbon_ends(mapped_data, ideo_ends,  idx_sort)\n",
    "print('ribbon ends starting from the ideogram[2]\\n', ribbon_ends[2])"
   ]
  },
  {
   "cell_type": "markdown",
   "metadata": {},
   "source": [
    "Now we need some functions to define the SIDES of the ribbons in terms of Bezier curves"
   ]
  },
  {
   "cell_type": "markdown",
   "metadata": {},
   "source": [
    "The function `control_pts()` returns the cartesian coordinates of the control points, b<sub>0</sub>, b<sub>1</sub>, b<sub>2</sub>, supposed as being initially located on the unit circle, and thus defined only by their angular coordinate. The angular coordinate of the point b<sub>1</sub> is the mean of angular coordinates of the points b<sub>0</sub>, b<sub>2</sub>.\n",
    "\n",
    "Since for a Bezier ribbon side only b<sub>0</sub>, b<sub>2</sub> are placed on the unit circle, one gives `radius` as a parameter that controls position of b<sub>1</sub>. `radius` is the distance of b<sub>1</sub> to the circle center."
   ]
  },
  {
   "cell_type": "code",
   "execution_count": null,
   "metadata": {},
   "outputs": [],
   "source": [
    "def control_pts(angle, radius):\n",
    "    #angle is a  3-list containing angular coordinates of the control points b0, b1, b2\n",
    "    #radius is the distance from b1 to the  origin O(0,0) \n",
    "\n",
    "    if len(angle)!=3:\n",
    "        raise InvalidInputError('angle must have len =3')\n",
    "    b_cplx = np.array([np.exp(1j*angle[k]) for k in range(3)])\n",
    "    b_cplx[1]=radius*b_cplx[1]\n",
    "    return list(zip(b_cplx.real, b_cplx.imag))   # HAD TO UPDATE THIS CODE FOR PYTHON 3"
   ]
  },
  {
   "cell_type": "code",
   "execution_count": null,
   "metadata": {},
   "outputs": [],
   "source": [
    "def ctrl_rib_chords(l, r, radius):\n",
    "    # this function returns a 2-list containing control poligons of the two quadratic Bezier\n",
    "    #curves that are opposite sides in a ribbon\n",
    "    #l (r) the list of angular variables of the ribbon arc ends defining \n",
    "    #the ribbon starting (ending) arc \n",
    "    # radius is a common parameter for both control polygons\n",
    "    if len(l)!=2 or len(r)!=2:\n",
    "        raise ValueError('the arc ends must be elements in a list of len 2')\n",
    "    return [control_pts([l[j], (l[j]+r[j])/2, r[j]], radius) for j in range(2)]"
   ]
  },
  {
   "cell_type": "markdown",
   "metadata": {},
   "source": [
    "Each ribbon will be coloured by one of the ideograms it connects."
   ]
  },
  {
   "cell_type": "code",
   "execution_count": null,
   "metadata": {},
   "outputs": [],
   "source": [
    "ribbon_color=[L*[ideo_colors[k]] for k in range(L)]"
   ]
  },
  {
   "cell_type": "markdown",
   "metadata": {},
   "source": [
    "We can manually modify these colours by acessing the list members and changing to the colour of a particular (e.g. the k<sup>th</sup>) ideogram: `ribbon_color[k][j]=ideo_colors[k]`"
   ]
  },
  {
   "cell_type": "markdown",
   "metadata": {},
   "source": [
    "Next, we need some functions that return the Plotly SVG path of the ribbon boundaries."
   ]
  },
  {
   "cell_type": "code",
   "execution_count": null,
   "metadata": {},
   "outputs": [],
   "source": [
    "def make_q_bezier(b):\n",
    "    # defines the Plotly SVG path for a quadratic Bezier curve defined by the \n",
    "    # list of its control points\n",
    "    \n",
    "    #if len(b)!=3: # THIS WAS CAUSING A BUG IN PY 3.4 - REPLACED WITH THE ITERATOR BELOW\n",
    "    if sum([1 for _ in b]) !=3:\n",
    "        raise valueError('control poligon must have 3 points')\n",
    "    A, B, C = b    \n",
    "    return 'M '+str(A[0])+',' +str(A[1])+' '+'Q '+\\\n",
    "                str(B[0])+', '+str(B[1])+ ' '+\\\n",
    "                str(C[0])+', '+str(C[1])\n",
    "\n",
    "# Try with example list entry\n",
    "b = [(1,4), (-0.5, 2.35), (3.745, 1.47)]\n",
    "\n",
    "make_q_bezier(b)"
   ]
  },
  {
   "cell_type": "code",
   "execution_count": null,
   "metadata": {},
   "outputs": [],
   "source": [
    "# Returns the Plotly SVG path corresponding to an arc represented by its end angular coordinates theta0, theta1.\n",
    "def make_ribbon_arc(theta0, theta1):\n",
    "\n",
    "    if test_2PI(theta0) and test_2PI(theta1):\n",
    "        if theta0 < theta1:\n",
    "            theta0= moduloAB(theta0, -PI, PI)\n",
    "            theta1= moduloAB(theta1, -PI, PI)\n",
    "            if theta0*theta1>0:\n",
    "                raise ValueError('incorrect angle coordinates for ribbon')\n",
    "    \n",
    "        nr=int(40*(theta0-theta1)/PI)\n",
    "        if nr<=2: nr=3\n",
    "        theta=np.linspace(theta0, theta1, nr)\n",
    "        pts=np.exp(1j*theta)# points on arc in polar complex form\n",
    "    \n",
    "        string_arc=''\n",
    "        for k in range(len(theta)):\n",
    "            string_arc+='L '+str(pts.real[k])+', '+str(pts.imag[k])+' '\n",
    "        return   string_arc \n",
    "    else:\n",
    "        raise ValueError('the angle coordinates for an arc side of a ribbon must be in [0, 2*pi]')\n",
    "        \n",
    "make_ribbon_arc(np.pi/3, np.pi/6)"
   ]
  },
  {
   "cell_type": "markdown",
   "metadata": {},
   "source": [
    "**_Finally, we are ready to define data and layout for the Plotly plot of the chord diagram._**"
   ]
  },
  {
   "cell_type": "code",
   "execution_count": null,
   "metadata": {},
   "outputs": [],
   "source": [
    "# Establish layout for plot\n",
    "def make_layout(title, plot_size):\n",
    "    axis=dict(showline=False, # hide axis line, grid, ticklabels and  title\n",
    "          zeroline=False,\n",
    "          showgrid=False,\n",
    "          showticklabels=False,\n",
    "          title='' \n",
    "          )\n",
    "\n",
    "    return Layout(title=title,\n",
    "                  xaxis=XAxis(axis),\n",
    "                  yaxis=YAxis(axis),\n",
    "                  showlegend=False,\n",
    "                  width=plot_size,\n",
    "                  height=plot_size,\n",
    "                  margin=Margin(t=25, b=25, l=25, r=25),\n",
    "                  hovermode='closest',\n",
    "                  shapes=[] # to this list one appends below the dicts defining the ribbon,\n",
    "                           #respectively the ideogram shapes\n",
    "                 )  "
   ]
  },
  {
   "cell_type": "code",
   "execution_count": null,
   "metadata": {},
   "outputs": [],
   "source": [
    "# Function that returns the Plotly shape of an ideogram\n",
    "def make_ideo_shape(path, line_color, fill_color):\n",
    "    #line_color is the color of the shape boundary\n",
    "    #fill_color is the color assigned to an ideogram\n",
    "    return  dict(\n",
    "                  line=Line(\n",
    "                  color=line_color, \n",
    "                  width=0.45\n",
    "                 ),\n",
    "\n",
    "            path = path,\n",
    "            type = 'path',\n",
    "            fillcolor = fill_color,\n",
    "            layer = 'below'\n",
    "        )"
   ]
  },
  {
   "cell_type": "markdown",
   "metadata": {},
   "source": [
    "Typically, you need to generate two types of ribbons: a ribbon connecting two subarcs in different ideograms, and a ribbon from one ideogram to itself.\n",
    "\n",
    "May not need the latter type for this dataset, as a team cannot trade to itself, but will just leave it in the code as it should have an entry of zero anyway and this way we can re-use the code for other plots that may require this feature."
   ]
  },
  {
   "cell_type": "code",
   "execution_count": null,
   "metadata": {},
   "outputs": [],
   "source": [
    "def make_ribbon(l, r, line_color, fill_color, radius=0.2):\n",
    "    #l=[l[0], l[1]], r=[r[0], r[1]]  represent the opposite arcs in the ribbon \n",
    "    #line_color is the color of the shape boundary\n",
    "    #fill_color is the fill color for the ribbon shape\n",
    "    poligon = ctrl_rib_chords(l, r, radius)\n",
    "    b, c = poligon\n",
    "           \n",
    "    return  dict(\n",
    "                line=Line(\n",
    "                color=line_color, width=0.5\n",
    "            ),\n",
    "            path=  make_q_bezier(b)+make_ribbon_arc(r[0], r[1])+\n",
    "                   make_q_bezier(c[::-1])+make_ribbon_arc(l[1], l[0]),\n",
    "            type='path',\n",
    "            fillcolor=fill_color,\n",
    "            layer='below'\n",
    "        )\n",
    "\n",
    "# Remove this if it's buggy for the nba trade dataset\n",
    "def make_self_rel(l, line_color, fill_color, radius):\n",
    "    #radius is the radius of Bezier control point b_1\n",
    "    b=control_pts([l[0], (l[0]+l[1])/2, l[1]], radius) \n",
    "    return  dict(\n",
    "                line=Line(\n",
    "                color=line_color, width=0.5\n",
    "            ),\n",
    "            path=  make_q_bezier(b)+make_ribbon_arc(l[1], l[0]),\n",
    "            type='path',\n",
    "            fillcolor=fill_color,\n",
    "            layer='below'\n",
    "        )\n",
    "\n",
    "def invPerm(perm):\n",
    "    # function that returns the inverse of a permutation, perm\n",
    "    inv = [0] * len(perm)\n",
    "    for i, s in enumerate(perm):\n",
    "        inv[s] = i\n",
    "    return inv\n",
    "\n",
    "# Create 'layout' obj using 'make_layout()' function\n",
    "layout = make_layout('Chord diagram', 900)"
   ]
  },
  {
   "cell_type": "markdown",
   "metadata": {},
   "source": [
    "`ribbon_info` is a list of dicts setting the information that is displayed when hovering the mouse over the ribbon ends."
   ]
  },
  {
   "cell_type": "markdown",
   "metadata": {},
   "source": [
    "Set the radius of Bezier control point, b<sub>1</sub>, for each ribbon associated to a diagonal data entry (may need to play around with these to get good looking ribbons):"
   ]
  },
  {
   "cell_type": "code",
   "execution_count": null,
   "metadata": {},
   "outputs": [],
   "source": [
    "# these value are set after a few trials. Are 30 values for the 30 teams.\n",
    "radii_sribb=[0.5, 0.5, 0.5, 0.5, 0.5,\n",
    "             0.5, 0.5, 0.5, 0.5, 0.5,\n",
    "             0.5, 0.5, 0.5, 0.5, 0.5,\n",
    "             0.5, 0.5, 0.5, 0.5, 0.5,\n",
    "             0.5, 0.5, 0.5, 0.5, 0.5,\n",
    "             0.5, 0.5, 0.5, 0.5, 0.5\n",
    "            ]"
   ]
  },
  {
   "cell_type": "code",
   "execution_count": null,
   "metadata": {},
   "outputs": [],
   "source": [
    "# Will have to modify these dicts to get more detailed 'hover over' info to show (e.g. player name, year, etc.)\n",
    "ribbon_info=[]\n",
    "for k in range(L):\n",
    "    \n",
    "    sigma=idx_sort[k]\n",
    "    sigma_inv=invPerm(sigma)\n",
    "    for j in range(k, L):\n",
    "        if matrix[k][j]==0 and matrix[j][k]==0: continue\n",
    "        eta=idx_sort[j]\n",
    "        eta_inv=invPerm(eta)\n",
    "        l=ribbon_ends[k][sigma_inv[j]]  \n",
    "        \n",
    "        if j==k:\n",
    "            layout['shapes'].append(make_self_rel(l, 'rgb(175,175,175)' ,\n",
    "                                    ideo_colors[k], radius=radii_sribb[k])) \n",
    "            z=0.9*np.exp(1j*(l[0]+l[1])/2)\n",
    "            #the text below will be displayed when hovering the mouse over the ribbon\n",
    "            text=labels[k]+' traded '+ '{:.0f}'.format(matrix[k][k])+' players '+ 'to themselves?!',\n",
    "            ribbon_info.append(Scatter(x=[z.real],\n",
    "                                       y=[z.imag],\n",
    "                                       mode='markers',\n",
    "                                       marker=Marker(size=0.5, color=ideo_colors[k]),\n",
    "                                       text=text,\n",
    "                                       hoverinfo='text'\n",
    "                                       )\n",
    "                              )\n",
    "        else:\n",
    "            r=ribbon_ends[j][eta_inv[k]]\n",
    "            zi=0.9*np.exp(1j*(l[0]+l[1])/2)\n",
    "            zf=0.9*np.exp(1j*(r[0]+r[1])/2)\n",
    "            #texti and textf are the strings that will be displayed when hovering the mouse \n",
    "            #over the two ribbon ends\n",
    "            #texti=labels[k]+' commented on '+ '{:.0f}'.format(matrix[k][j])+' of '+\\\n",
    "                  #labels[j]+ ' Fb posts',\n",
    "            texti=labels[k]+' have traded '+ '{:.0f}'.format(matrix[k][j])+' players to '+\\\n",
    "                  labels[j],\n",
    "            \n",
    "            textf=labels[j]+' have traded '+ '{:.0f}'.format(matrix[j][k])+' players to '+\\\n",
    "            labels[k],\n",
    "            ribbon_info.append(Scatter(x=[zi.real],\n",
    "                                       y=[zi.imag],\n",
    "                                       mode='markers',\n",
    "                                       marker=Marker(size=0.5, color=ribbon_color[k][j]),\n",
    "                                       text=texti,\n",
    "                                       hoverinfo='text'\n",
    "                                       )\n",
    "                              ),\n",
    "            ribbon_info.append(Scatter(x=[zf.real],\n",
    "                                       y=[zf.imag],\n",
    "                                       mode='markers',\n",
    "                                       marker=Marker(size=0.5, color=ribbon_color[k][j]),\n",
    "                                       text=textf,\n",
    "                                       hoverinfo='text'\n",
    "                                       )\n",
    "                              )\n",
    "            r=(r[1], r[0]) #IMPORTANT!!!  Reverse these arc ends because otherwise you get\n",
    "                          # a twisted ribbon\n",
    "            #append the ribbon shape\n",
    "            layout['shapes'].append(make_ribbon(l, r, 'rgb(175,175,175)' , ribbon_color[k][j]))"
   ]
  },
  {
   "cell_type": "markdown",
   "metadata": {},
   "source": [
    "`ideograms` is a list of dicts that set the position, and color of ideograms, as well as the information associated to each ideogram."
   ]
  },
  {
   "cell_type": "code",
   "execution_count": null,
   "metadata": {},
   "outputs": [],
   "source": [
    "ideograms=[]\n",
    "for k in range(len(ideo_ends)):\n",
    "    z= make_ideogram_arc(1.1, ideo_ends[k])\n",
    "    zi=make_ideogram_arc(1.0, ideo_ends[k])\n",
    "    m=len(z)\n",
    "    n=len(zi)\n",
    "    ideograms.append(Scatter(x=z.real,\n",
    "                             y=z.imag,\n",
    "                             mode='lines',\n",
    "                             line=Line(color=ideo_colors[k], shape='spline', width=0.25),\n",
    "                             text=labels[k]+'<br>'+'{:.0f}'.format(row_sum[k]), \n",
    "                             hoverinfo='text'\n",
    "                             )\n",
    "                     )\n",
    "    \n",
    "       \n",
    "    path='M '\n",
    "    for s in range(m):\n",
    "        path+=str(z.real[s])+', '+str(z.imag[s])+' L '\n",
    "        \n",
    "    Zi=np.array(zi.tolist()[::-1]) \n",
    "\n",
    "    for s in range(m):\n",
    "        path+=str(Zi.real[s])+', '+str(Zi.imag[s])+' L '\n",
    "    path+=str(z.real[0])+' ,'+str(z.imag[0]) \n",
    "   \n",
    "    layout['shapes'].append(make_ideo_shape(path,'rgb(150,150,150)' , ideo_colors[k]))\n",
    "    \n",
    "data = Data(ideograms+ribbon_info)\n",
    "fig = Figure(data=data, layout=layout)\n",
    "\n",
    "import plotly.offline as off\n",
    "off.init_notebook_mode()\n",
    "\n",
    "off.iplot(fig, filename='chord-diagram-nba-trades') "
   ]
  },
  {
   "cell_type": "code",
   "execution_count": null,
   "metadata": {},
   "outputs": [],
   "source": []
  }
 ],
 "metadata": {
  "kernelspec": {
   "display_name": "Python 3",
   "language": "python",
   "name": "python3"
  },
  "language_info": {
   "codemirror_mode": {
    "name": "ipython",
    "version": 3
   },
   "file_extension": ".py",
   "mimetype": "text/x-python",
   "name": "python",
   "nbconvert_exporter": "python",
   "pygments_lexer": "ipython3",
   "version": "3.6.3"
  }
 },
 "nbformat": 4,
 "nbformat_minor": 2
}
